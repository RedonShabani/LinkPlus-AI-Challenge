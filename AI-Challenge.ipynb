{
 "cells": [
  {
   "cell_type": "code",
   "execution_count": null,
   "id": "e99d60fe",
   "metadata": {},
   "outputs": [
    {
     "name": "stdout",
     "output_type": "stream",
     "text": [
      "Dataset shape: (2692, 4)\n",
      "                                             Article      Date  \\\n",
      "0  KARACHI: The Sindh government has decided to b...  1/1/2015   \n",
      "1  HONG KONG: Asian markets started 2015 on an up...  1/2/2015   \n",
      "2  HONG KONG:  Hong Kong shares opened 0.66 perce...  1/5/2015   \n",
      "3  HONG KONG: Asian markets tumbled Tuesday follo...  1/6/2015   \n",
      "4  NEW YORK: US oil prices Monday slipped below $...  1/6/2015   \n",
      "\n",
      "                                             Heading  NewsType  \n",
      "0  sindh govt decides to cut public transport far...  business  \n",
      "1                    asia stocks up in new year trad  business  \n",
      "2           hong kong stocks open 0.66 percent lower  business  \n",
      "3             asian stocks sink euro near nine year   business  \n",
      "4                 us oil prices slip below 50 a barr  business  \n",
      "\n",
      "Categories distribution:\n",
      "NewsType\n",
      "sports      1408\n",
      "business    1284\n",
      "Name: count, dtype: int64\n"
     ]
    }
   ],
   "source": [
    "# First Request: Load and inspect dataset\n",
    "\n",
    "\n",
    "# The CSV file contains some special characters that are not standard UTF-8 (like accented letters)\n",
    "# To make sure pandas can read all rows without errors we use encoding='latin1'\n",
    "# This allows us to load the data safely for preprocessing and modeling\n",
    "\n",
    "import pandas as pd\n",
    "\n",
    "# Load dataset\n",
    "file_path = r'C:/Users/LENOVO/Desktop/LinkPlus/AI Challenge/Articles.csv'\n",
    "df = pd.read_csv(file_path, encoding='latin1')\n",
    "\n",
    "# Inspect the dataset\n",
    "print(\"Dataset shape:\", df.shape)\n",
    "print(df.head())\n",
    "print(\"\\nCategories distribution:\")\n",
    "print(df['NewsType'].value_counts())"
   ]
  },
  {
   "cell_type": "code",
   "execution_count": 11,
   "id": "c2af678c",
   "metadata": {},
   "outputs": [
    {
     "name": "stderr",
     "output_type": "stream",
     "text": [
      "[nltk_data] Downloading package stopwords to\n",
      "[nltk_data]     C:\\Users\\LENOVO\\AppData\\Roaming\\nltk_data...\n",
      "[nltk_data]   Package stopwords is already up-to-date!\n"
     ]
    },
    {
     "name": "stdout",
     "output_type": "stream",
     "text": [
      "                                                Text  \\\n",
      "0  sindh govt decides to cut public transport far...   \n",
      "1  asia stocks up in new year trad HONG KONG: Asi...   \n",
      "2  hong kong stocks open 0.66 percent lower HONG ...   \n",
      "3  asian stocks sink euro near nine year  HONG KO...   \n",
      "4  us oil prices slip below 50 a barr NEW YORK: U...   \n",
      "\n",
      "                                        Cleaned_Text  \n",
      "0  sindh govt decides cut public transport fares ...  \n",
      "1  asia stocks new year trad hong kong asian mark...  \n",
      "2  hong kong stocks open percent lower hong kong ...  \n",
      "3  asian stocks sink euro near nine year hong kon...  \n",
      "4  us oil prices slip barr new york us oil prices...  \n"
     ]
    }
   ],
   "source": [
    "#  Preprocessing\n",
    "import re\n",
    "import nltk\n",
    "from nltk.corpus import stopwords\n",
    "nltk.download('stopwords')\n",
    "\n",
    "# Combining Heading and Article for text input\n",
    "df['Text'] = df['Heading'].astype(str) + ' ' + df['Article'].astype(str)\n",
    "\n",
    "# Function to clean text\n",
    "def clean_text(text):\n",
    "    # Remove special characters and digits\n",
    "    text = re.sub(r'[^a-zA-Z\\s]', '', text)\n",
    "    # Convert to lowercase\n",
    "    text = text.lower()\n",
    "    # Remove stopwords\n",
    "    stop_words = set(stopwords.words('english'))\n",
    "    text = ' '.join([word for word in text.split() if word not in stop_words])\n",
    "    return text\n",
    "\n",
    "df['Cleaned_Text'] = df['Text'].apply(clean_text)\n",
    "print(df[['Text', 'Cleaned_Text']].head())\n"
   ]
  },
  {
   "cell_type": "code",
   "execution_count": 19,
   "id": "087c9f59",
   "metadata": {},
   "outputs": [
    {
     "name": "stdout",
     "output_type": "stream",
     "text": [
      "\n",
      "Samples per category after cleaning:\n",
      "NewsType\n",
      "sports      1408\n",
      "business    1284\n",
      "Name: count, dtype: int64\n",
      "\n",
      "Most frequent words in the dataset:\n",
      "['billion' 'cricket' 'crude' 'england' 'india' 'international' 'market'\n",
      " 'match' 'million' 'new' 'oil' 'pakistan' 'percent' 'prices' 'said'\n",
      " 'second' 'team' 'test' 'world' 'year']\n"
     ]
    }
   ],
   "source": [
    "# Number of samples per category\n",
    "print(\"\\nSamples per category after cleaning:\")\n",
    "print(df['NewsType'].value_counts())\n",
    "\n",
    "# Most frequent words in the dataset\n",
    "from sklearn.feature_extraction.text import CountVectorizer\n",
    "\n",
    "cv = CountVectorizer(max_features=20, stop_words='english')\n",
    "X_cv = cv.fit_transform(df['Cleaned_Text'])\n",
    "print(\"\\nMost frequent words in the dataset:\")\n",
    "print(cv.get_feature_names_out())"
   ]
  },
  {
   "cell_type": "code",
   "execution_count": 21,
   "id": "d6bbeb2c",
   "metadata": {},
   "outputs": [],
   "source": [
    "# Spliting the dataset and Vectorization\n",
    "from sklearn.model_selection import train_test_split\n",
    "from sklearn.feature_extraction.text import TfidfVectorizer\n",
    "\n",
    "x = df['Cleaned_Text'] \n",
    "y = df['NewsType']  \n",
    "\n",
    "# Spliting the dataset into training and testing sets \n",
    "x_train, x_test, y_train, y_test = train_test_split(x, y, test_size=0.2, random_state=42, stratify=y)\n",
    "\n",
    "# TF-IDF Vectorization\n",
    "vectorizer = TfidfVectorizer(max_features=5000)\n",
    "X_train_vec = vectorizer.fit_transform(x_train)\n",
    "X_test_vec = vectorizer.transform(x_test)"
   ]
  },
  {
   "cell_type": "code",
   "execution_count": null,
   "id": "f24c7719",
   "metadata": {},
   "outputs": [
    {
     "name": "stdout",
     "output_type": "stream",
     "text": [
      "\n",
      "Classification Report:\n",
      "              precision    recall  f1-score   support\n",
      "\n",
      "    business       0.99      1.00      0.99       257\n",
      "      sports       1.00      0.99      0.99       282\n",
      "\n",
      "    accuracy                           0.99       539\n",
      "   macro avg       0.99      0.99      0.99       539\n",
      "weighted avg       0.99      0.99      0.99       539\n",
      "\n"
     ]
    },
    {
     "data": {
      "image/png": "[encoded data removed]",
      "text/plain": [
       "<Figure size 640x480 with 2 Axes>"
      ]
     },
     "metadata": {},
     "output_type": "display_data"
    }
   ],
   "source": [
    "# Train, Predict, Evaluate and confusion matri\n",
    "\n",
    "from sklearn.linear_model import LogisticRegression\n",
    "from sklearn.metrics import classification_report, confusion_matrix\n",
    "import seaborn as sns\n",
    "import matplotlib.pyplot as plt\n",
    "\n",
    "# Train\n",
    "model = LogisticRegression(max_iter=500)\n",
    "model.fit(X_train_vec, y_train)\n",
    "\n",
    "# Predict\n",
    "y_pred = model.predict(X_test_vec)\n",
    "\n",
    "# Evaluate\n",
    "print(\"\\nClassification Report:\")\n",
    "print(classification_report(y_test, y_pred))\n",
    "\n",
    "# Confusion matrix\n",
    "cm = confusion_matrix(y_test, y_pred)\n",
    "sns.heatmap(cm, annot=True, fmt='d', xticklabels=['business','sports'], yticklabels=['business','sports'])\n",
    "plt.show()\n"
   ]
  },
  {
   "cell_type": "code",
   "execution_count": null,
   "id": "1cc6cb6a",
   "metadata": {},
   "outputs": [
    {
     "name": "stdout",
     "output_type": "stream",
     "text": [
      "Predicted category: sports\n"
     ]
    }
   ],
   "source": [
    "def predict_category(text, model=model, vectorizer=vectorizer):\n",
    "    text_clean = clean_text(text)\n",
    "    vec = vectorizer.transform([text_clean])\n",
    "    pred = model.predict(vec)\n",
    "    return pred[0]\n",
    "\n",
    "example_text = \"Pakistan wins gold in hockey championship\"\n",
    "print(\"Predicted category:\", predict_category(example_text))\n"
   ]
  },
  {
   "cell_type": "code",
   "execution_count": 24,
   "id": "dfa02a85",
   "metadata": {},
   "outputs": [
    {
     "name": "stdout",
     "output_type": "stream",
     "text": [
      "Logistic Regression Accuracy: 0.9944341372912802\n",
      "Naive Bayes Accuracy: 0.9981447124304267\n",
      "\n",
      "Logistic Regression Report:\n",
      "               precision    recall  f1-score   support\n",
      "\n",
      "    business       0.99      1.00      0.99       257\n",
      "      sports       1.00      0.99      0.99       282\n",
      "\n",
      "    accuracy                           0.99       539\n",
      "   macro avg       0.99      0.99      0.99       539\n",
      "weighted avg       0.99      0.99      0.99       539\n",
      "\n",
      "\n",
      "Naive Bayes Report:\n",
      "               precision    recall  f1-score   support\n",
      "\n",
      "    business       1.00      1.00      1.00       257\n",
      "      sports       1.00      1.00      1.00       282\n",
      "\n",
      "    accuracy                           1.00       539\n",
      "   macro avg       1.00      1.00      1.00       539\n",
      "weighted avg       1.00      1.00      1.00       539\n",
      "\n"
     ]
    }
   ],
   "source": [
    "# Train and Compare Two Models\n",
    "\n",
    "from sklearn.linear_model import LogisticRegression\n",
    "from sklearn.naive_bayes import MultinomialNB\n",
    "from sklearn.metrics import accuracy_score, classification_report, confusion_matrix\n",
    "import seaborn as sns\n",
    "import matplotlib.pyplot as plt\n",
    "\n",
    "# Logistic Regression\n",
    "log_reg = LogisticRegression(max_iter=1000)\n",
    "log_reg.fit(X_train_vec, y_train)\n",
    "y_pred_lr = log_reg.predict(X_test_vec)\n",
    "\n",
    "# Naive Bayes\n",
    "nb = MultinomialNB()\n",
    "nb.fit(X_train_vec, y_train)\n",
    "y_pred_nb = nb.predict(X_test_vec)\n",
    "\n",
    "# Accuracy\n",
    "print(\"Logistic Regression Accuracy:\", accuracy_score(y_test, y_pred_lr))\n",
    "print(\"Naive Bayes Accuracy:\", accuracy_score(y_test, y_pred_nb))\n",
    "\n",
    "# Detailed Report\n",
    "print(\"\\nLogistic Regression Report:\\n\", classification_report(y_test, y_pred_lr))\n",
    "print(\"\\nNaive Bayes Report:\\n\", classification_report(y_test, y_pred_nb))\n"
   ]
  },
  {
   "cell_type": "code",
   "execution_count": null,
   "id": "3c2ebdda",
   "metadata": {},
   "outputs": [
    {
     "data": {
      "image/png": "[encoded data removed]",
      "text/plain": [
       "<Figure size 800x600 with 2 Axes>"
      ]
     },
     "metadata": {},
     "output_type": "display_data"
    },
    {
     "data": {
      "image/png": "[encoded data removed]",
      "text/plain": [
       "<Figure size 800x600 with 2 Axes>"
      ]
     },
     "metadata": {},
     "output_type": "display_data"
    }
   ],
   "source": [
    "# Confusion Matrices for Logistic Regression\n",
    "\n",
    "cm_lr = confusion_matrix(y_test, y_pred_lr)\n",
    "\n",
    "plt.figure(figsize=(8,6))\n",
    "sns.heatmap(cm_lr, annot=True, fmt='d', cmap='Blues',\n",
    "            xticklabels=log_reg.classes_,\n",
    "            yticklabels=log_reg.classes_)\n",
    "plt.title(\"Confusion Matrix - Logistic Regression\")\n",
    "plt.xlabel(\"Predicted\")\n",
    "plt.ylabel(\"True\")\n",
    "plt.show()\n",
    "\n",
    "# Confusion matrix for Naive Bayes\n",
    "cm_nb = confusion_matrix(y_test, y_pred_nb)\n",
    "\n",
    "plt.figure(figsize=(8,6))\n",
    "sns.heatmap(cm_nb, annot=True, fmt='d', cmap='Greens',\n",
    "            xticklabels=nb.classes_,\n",
    "            yticklabels=nb.classes_)\n",
    "plt.title(\"Confusion Matrix - Naive Bayes\")\n",
    "plt.xlabel(\"Predicted\")\n",
    "plt.ylabel(\"True\")\n",
    "plt.show()\n"
   ]
  },
  {
   "cell_type": "code",
   "execution_count": 28,
   "id": "7f7bb96f",
   "metadata": {},
   "outputs": [
    {
     "name": "stdout",
     "output_type": "stream",
     "text": [
      "business\n",
      "business\n",
      "✅ Model and vectorizer saved as model.pkl and vectorizer.pkl\n"
     ]
    }
   ],
   "source": [
    "import joblib\n",
    "\n",
    "# Wrap Prediction in a Function\n",
    "\n",
    "def predict_category(text, model, vectorizer):\n",
    "    cleaned = clean_text(text) \n",
    "    vec = vectorizer.transform([cleaned])\n",
    "    return model.predict(vec)[0]\n",
    "\n",
    "# Example \n",
    "print(predict_category(\"Oil prices rise in global market\", log_reg, vectorizer))\n",
    "print(predict_category(\"Government announces new policy\", nb, vectorizer))\n",
    "\n",
    "joblib.dump(log_reg, \"model.pkl\")        # Logistic Regression chosen\n",
    "joblib.dump(vectorizer, \"vectorizer.pkl\")\n",
    "\n",
    "print(\"✅ Model and vectorizer saved as model.pkl and vectorizer.pkl\")"
   ]
  }
 ],
 "metadata": {
  "kernelspec": {
   "display_name": "base",
   "language": "python",
   "name": "python3"
  },
  "language_info": {
   "codemirror_mode": {
    "name": "ipython",
    "version": 3
   },
   "file_extension": ".py",
   "mimetype": "text/x-python",
   "name": "python",
   "nbconvert_exporter": "python",
   "pygments_lexer": "ipython3",
   "version": "3.12.7"
  }
 },
 "nbformat": 4,
 "nbformat_minor": 5
}
